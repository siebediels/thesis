{
 "cells": [
  {
   "cell_type": "code",
   "execution_count": 1,
   "metadata": {
    "scrolled": true
   },
   "outputs": [],
   "source": [
    "from __future__ import print_function\n",
    "from ipywidgets import interact, interactive, fixed, interact_manual, Layout\n",
    "import ipywidgets as widgets\n",
    "from IPython.display import display, clear_output, Markdown"
   ]
  },
  {
   "cell_type": "code",
   "execution_count": 2,
   "metadata": {
    "scrolled": true
   },
   "outputs": [
    {
     "data": {
      "text/markdown": [
       "## INTERACTIVE EXPLANATION TOOL"
      ],
      "text/plain": [
       "<IPython.core.display.Markdown object>"
      ]
     },
     "metadata": {},
     "output_type": "display_data"
    },
    {
     "data": {
      "application/vnd.jupyter.widget-view+json": {
       "model_id": "37fdcf263cb4424787342d70d495ba26",
       "version_major": 2,
       "version_minor": 0
      },
      "text/plain": [
       "Output()"
      ]
     },
     "metadata": {},
     "output_type": "display_data"
    }
   ],
   "source": [
    "display(Markdown(\"## INTERACTIVE EXPLANATION TOOL\"))\n",
    "intro_output = widgets.Output()\n",
    "display(intro_output)\n",
    "with intro_output:\n",
    "    clear_output(wait=True)\n",
    "    print(\"Initializing application...\")\n",
    "    \n",
    "def print_intro(text):\n",
    "    with intro_output:\n",
    "        print(text)\n",
    "        \n",
    "def intro_done():\n",
    "    intro_output.clear_output()"
   ]
  },
  {
   "cell_type": "code",
   "execution_count": 3,
   "metadata": {
    "scrolled": true
   },
   "outputs": [],
   "source": [
    "# import DiCE\n",
    "import dice_ml\n",
    "from dice_ml.utils import helpers # helper functions\n",
    "\n",
    "# Tensorflow libraries\n",
    "import tensorflow as tf\n",
    "from tensorflow import keras\n",
    "\n",
    "# supress deprecation warnings from TF\n",
    "tf.compat.v1.logging.set_verbosity(tf.compat.v1.logging.ERROR)"
   ]
  },
  {
   "cell_type": "code",
   "execution_count": 4,
   "metadata": {
    "scrolled": true
   },
   "outputs": [],
   "source": [
    "###################\n",
    "\n",
    "# Code deels gebaseerd op https://towardsdatascience.com/explainable-artificial-intelligence-part-3-hands-on-machine-learning-model-interpretation-e8ebe5afc608\n",
    "# en op de github repo's van LIME en SHAP.\n",
    "\n",
    "from IPython.display import display\n",
    "import numpy as np\n",
    "import pandas as pd\n",
    "import sklearn\n",
    "from sklearn.preprocessing import LabelEncoder, OneHotEncoder\n",
    "from sklearn.compose import ColumnTransformer\n",
    "from sklearn.model_selection import train_test_split\n",
    "from sklearn.neighbors import KNeighborsClassifier\n",
    "from lime.lime_tabular import LimeTabularExplainer\n",
    "import xgboost\n",
    "import shap\n",
    "import time\n",
    "import os.path\n",
    "print_intro(\"Imported packages\")"
   ]
  },
  {
   "cell_type": "code",
   "execution_count": 5,
   "metadata": {
    "scrolled": true
   },
   "outputs": [],
   "source": [
    "with intro_output:\n",
    "    shap.initjs()"
   ]
  },
  {
   "cell_type": "code",
   "execution_count": 6,
   "metadata": {
    "scrolled": true
   },
   "outputs": [],
   "source": [
    "dataset = helpers.load_adult_income_dataset()\n",
    "print_intro(\"Dataset loaded\")"
   ]
  },
  {
   "cell_type": "code",
   "execution_count": 7,
   "metadata": {
    "scrolled": true
   },
   "outputs": [],
   "source": [
    "# Creating DiCE data object\n",
    "continuous_features=['age', 'hours_per_week']\n",
    "d = dice_ml.Data(dataframe=dataset, continuous_features=continuous_features, outcome_name='income')"
   ]
  },
  {
   "cell_type": "code",
   "execution_count": 8,
   "metadata": {
    "scrolled": true
   },
   "outputs": [],
   "source": [
    "############################\n",
    "# Creating dataset for LIME\n",
    "feature_names = dataset.columns.to_list()[:-1] # weggelaten: education_num, relationship, capital gain, capital loss, country\n",
    "labels = dataset.iloc[:,-1].to_numpy()\n",
    "data = dataset.iloc[:,:-1].to_numpy()\n",
    "class_names = np.array(['<=50K', '>50K'])\n",
    "categorical_features = [feature for feature in feature_names if feature not in continuous_features]"
   ]
  },
  {
   "cell_type": "code",
   "execution_count": 9,
   "metadata": {
    "scrolled": true
   },
   "outputs": [],
   "source": [
    "##################################\n",
    "# Encode categorical features\n",
    "categorical_features = [1,2,3,4,5,6]\n",
    "categorical_names = {}\n",
    "categorical_names_indexed_by_name = {}\n",
    "for feature in categorical_features:\n",
    "    le = LabelEncoder()\n",
    "    le.fit(data[:, feature])\n",
    "    data[:, feature] = le.transform(data[:, feature])\n",
    "    categorical_names[feature] = le.classes_\n",
    "    categorical_names_indexed_by_name[feature_names[feature]] = le.classes_\n",
    "    \n",
    "def category_number_to_name(instance):\n",
    "    result = instance.astype('<U26')\n",
    "    for categorical_index in categorical_names.keys():\n",
    "        cat_label = int(instance[categorical_index])\n",
    "        result[categorical_index] = categorical_names[categorical_index][cat_label]\n",
    "    return result\n",
    "\n",
    "def category_name_to_number(instance):\n",
    "    result = np.copy(instance)\n",
    "    for categorical_index in categorical_names.keys():\n",
    "        number = np.where(categorical_names[categorical_index] == instance[categorical_index])\n",
    "        result[categorical_index] = number[0][0]\n",
    "    return result"
   ]
  },
  {
   "cell_type": "code",
   "execution_count": 10,
   "metadata": {
    "scrolled": true
   },
   "outputs": [],
   "source": [
    "#################################\n",
    "# Splitting train and test\n",
    "# using same random state for \"data\" (LIME) and \"dataset (DiCE)\"\n",
    "random_state = 17\n",
    "data = data.astype(float)\n",
    "np.random.seed(1)\n",
    "X_train_lime, X_test_lime, y_train_lime, y_test_lime = train_test_split(data, labels, random_state = random_state, \n",
    "                                                                        test_size=0.2)\n",
    "print_intro(\"Dataset preprocessed\")"
   ]
  },
  {
   "cell_type": "code",
   "execution_count": 11,
   "metadata": {
    "scrolled": true
   },
   "outputs": [],
   "source": [
    "# seeding random numbers for reproducability\n",
    "from numpy.random import seed\n",
    "seed(1)\n",
    "from tensorflow import set_random_seed\n",
    "set_random_seed(2)"
   ]
  },
  {
   "cell_type": "code",
   "execution_count": 12,
   "metadata": {
    "scrolled": true
   },
   "outputs": [],
   "source": [
    "# try to load model, if not exists: train model\n",
    "model_name = \"keras_ann_v1\"\n",
    "model_path = \"../models/\"+model_name+\".h5\"\n",
    "sess = tf.InteractiveSession()\n",
    "\n",
    "if (os.path.isfile(model_path)):\n",
    "    ann_model = tf.keras.models.load_model(model_path)\n",
    "    print_intro(\"Model loaded from disk\")\n",
    "    \n",
    "else:\n",
    "    print_intro(\"Training model\")\n",
    "\n",
    "    train, test = train_test_split(d.normalize_data(d.one_hot_encoded_data), random_state=random_state, test_size=0.2)\n",
    "    X_train = train.loc[:, train.columns != 'income']\n",
    "    y_train = train.loc[:, train.columns == 'income']\n",
    "\n",
    "    X_test = test.loc[:, test.columns != 'income']\n",
    "    y_test = test.loc[:, test.columns == 'income']\n",
    "\n",
    "    ann_model = keras.Sequential()\n",
    "    ann_model.add(keras.layers.Dense(20, input_shape=(X_train.shape[1],), kernel_regularizer=keras.regularizers.l1(0.001), activation=tf.nn.relu))\n",
    "    ann_model.add(keras.layers.Dense(1, activation=tf.nn.sigmoid))\n",
    "\n",
    "    ann_model.compile(loss='binary_crossentropy', optimizer=tf.keras.optimizers.Adam(0.01), metrics=['accuracy'])\n",
    "    ann_model.fit(X_train, y_train, validation_split=0.20, epochs=100, verbose=1, class_weight={0:1,1:2})\n",
    "    print(\"accuracy: \"+str(ann_model.history.history['acc'][-1]))\n",
    "    # the training will take some time for 100 epochs.\n",
    "    # you can wait or set verbose=1 to see the progress of training.\n",
    "    \n",
    "    # save model\n",
    "    ann_model.save(\"../models/\"+model_name+\".h5\")\n",
    "    print_intro(\"Model saved to disk\")"
   ]
  },
  {
   "cell_type": "code",
   "execution_count": 13,
   "metadata": {
    "scrolled": true
   },
   "outputs": [],
   "source": [
    "def inverse_categories(instances):\n",
    "    result = instances.astype('<U26')\n",
    "    for categorical_index in categorical_names.keys():\n",
    "        cat_labels = instances[:,categorical_index]\n",
    "        result[:,categorical_index] = [categorical_names[categorical_index][int(cat_label)] for cat_label in cat_labels]\n",
    "    return result\n",
    "\n",
    "def lime_instances_to_dice_ml(instances):\n",
    "    base_frame = d.prepare_df_for_encoding()\n",
    "    \n",
    "    instances_categorical = inverse_categories(instances)\n",
    "\n",
    "    instance_dataframe = pd.DataFrame(instances_categorical,columns=feature_names)\n",
    "    instance_dataframe['age'] = pd.to_numeric(instance_dataframe['age'])\n",
    "    instance_dataframe['hours_per_week'] = pd.to_numeric(instance_dataframe['hours_per_week'])\n",
    "\n",
    "    \"\"\"Prepares user defined test input for DiCE.\"\"\"\n",
    "    temp = base_frame.append(instance_dataframe, ignore_index=True, sort=False)\n",
    "    temp = d.one_hot_encode_data(temp)\n",
    "    temp = d.normalize_data(temp)\n",
    "    final = temp.tail(instance_dataframe.shape[0]).reset_index(drop=True)\n",
    "    return final\n",
    "\n",
    "def lime_instance_to_dict(instance):\n",
    "    temp = dict(zip(feature_names,category_number_to_name(instance)))\n",
    "    temp['age'] = int(float(temp['age']))\n",
    "    temp['hours_per_week'] = int(float(temp['hours_per_week']))\n",
    "    return temp\n",
    "\n",
    "def dict_to_lime_instance(instance_dict):\n",
    "    instance_array = np.array(list(instance_dict.values()))\n",
    "    return category_name_to_number(instance_array).astype('float')\n",
    "\n",
    "def pd_to_dataframe(instance):\n",
    "    return pd.DataFrame(instance.reshape(-1, len(instance)),columns=feature_names)\n",
    "\n",
    "def predict_fn_lime_superquick(instances):\n",
    "    converted_to_dice = lime_instances_to_dice_ml(instances)\n",
    "    predictions = ann_model.predict(converted_to_dice)\n",
    "    return np.append(1-predictions, predictions, axis=1)\n",
    "\n",
    "def predict_fn_shap_superquick(instances):\n",
    "    converted_to_dice = lime_instances_to_dice_ml(instances)\n",
    "    predictions = ann_model.predict(converted_to_dice)\n",
    "    return np.array([pred[0] for pred in predictions])"
   ]
  },
  {
   "cell_type": "code",
   "execution_count": 14,
   "metadata": {
    "scrolled": true
   },
   "outputs": [],
   "source": [
    "# provide the trained ML model to DiCE's model object\n",
    "backend = 'TF'+tf.__version__[0] # TF1\n",
    "m = dice_ml.Model(model=ann_model, backend=backend) "
   ]
  },
  {
   "cell_type": "code",
   "execution_count": 15,
   "metadata": {
    "scrolled": true
   },
   "outputs": [],
   "source": [
    "# initiate DiCE\n",
    "exp = dice_ml.Dice(d, m)"
   ]
  },
  {
   "cell_type": "code",
   "execution_count": 16,
   "metadata": {
    "scrolled": true
   },
   "outputs": [],
   "source": [
    "###############################\n",
    "explainer_lime = LimeTabularExplainer(X_train_lime ,feature_names = feature_names,class_names=class_names,\n",
    "                                                   categorical_features=categorical_features, \n",
    "                                                   categorical_names=categorical_names, kernel_width=3)"
   ]
  },
  {
   "cell_type": "code",
   "execution_count": 17,
   "metadata": {
    "scrolled": true
   },
   "outputs": [],
   "source": [
    "%%capture \n",
    "# %%capture dient om een vervelende warning te onderdrukken (doet alle output van deze cell weg)\n",
    "############################## SHAP\n",
    "\n",
    "# Median is simpelweg de mediaan van elke feature in de training set. In deze setting wordt telkens de mediaan van een feature als baseline gebruikt (ze krijgt deze waarde bij het \"wegdoen\")\n",
    "# INFO: De base value op de figuur is de uitkomst die de blackbox geeft voor de mediaan als input.\n",
    "med = np.median(X_train_lime, axis=0).reshape((1,X_train_lime.shape[1]))\n",
    "\n",
    "explainer_shap = shap.KernelExplainer(predict_fn_shap_superquick, med)\n",
    "\n",
    "def plot_explanation_for_shap(instance):\n",
    "    shap_values_for_instance = explainer_shap.shap_values(instance, nsamples=1000)\n",
    "    return shap.force_plot(explainer_shap.expected_value, shap_values_for_instance, category_number_to_name(instance), feature_names = feature_names)"
   ]
  },
  {
   "cell_type": "code",
   "execution_count": 18,
   "metadata": {
    "scrolled": true
   },
   "outputs": [],
   "source": [
    "print_intro(\"Ready!\")"
   ]
  },
  {
   "cell_type": "code",
   "execution_count": 19,
   "metadata": {
    "scrolled": true
   },
   "outputs": [],
   "source": [
    "# helper functions\n",
    "\n",
    "def get_prediction_prob(instance):\n",
    "    return predict_fn_shap_superquick(np.array([instance]))[0]\n",
    "\n",
    "def get_sum_of_negative_weights(lime_explanation):\n",
    "    total = 0\n",
    "    for element in lime_explanation.as_list():\n",
    "        if element[1] < 0:\n",
    "            total += abs(element[1])\n",
    "    return total\n",
    "\n",
    "def get_most_important_negative_features(lime_explanation, probability=0.5, min_features = 2, max_features=4):\n",
    "    features_to_show = []\n",
    "    weight_so_far = 0\n",
    "    total_weight = get_sum_of_negative_weights(lime_explanation)\n",
    "    for element in lime_explanation.as_list():\n",
    "        if element[1] > 0:\n",
    "            continue\n",
    "        if len(features_to_show) >= max_features:\n",
    "            break\n",
    "        if len(features_to_show) >= min_features and weight_so_far / total_weight > probability:\n",
    "            break\n",
    "        features_to_show.append(element[0])\n",
    "        weight_so_far += abs(element[1])\n",
    "    return features_to_show\n",
    "\n",
    "def get_all_negative_features(lime_explanation):\n",
    "    features_to_show = []\n",
    "    for element in lime_explanation.as_list():\n",
    "        if element[1] < 0:\n",
    "            features_to_show.append(element[0])\n",
    "    return features_to_show\n",
    "\n",
    "def get_remaining_negative_features(lime_explanation):\n",
    "    most_important = get_most_important_negative_features(lime_explanation)\n",
    "    all_negative = get_all_negative_features(lime_explanation)\n",
    "    return all_negative[len(most_important):]\n",
    "\n",
    "def print_explanation_step_1(lime_explanation):\n",
    "    print(\"In your case, the most important reasons for making LESS than 50K/year are (in descending order of importance):\")\n",
    "    features = get_most_important_negative_features(lime_explanation)\n",
    "    for element in features:\n",
    "        display(Markdown(\"* \"+str(element)))\n",
    "        \n",
    "def print_explanation_step_2(lime_explanation):\n",
    "    print(\"The other reasons for making LESS than 50K/year are:\")\n",
    "    for element in get_remaining_negative_features(lime_explanation):\n",
    "        display(Markdown(\"* \"+str(element)))"
   ]
  },
  {
   "cell_type": "code",
   "execution_count": 20,
   "metadata": {
    "scrolled": true
   },
   "outputs": [],
   "source": [
    "# Methods for initializing toggles and sliders on counterfactual page\n",
    "def initialize_adjusters(instance):\n",
    "    feature_adjusters = {}\n",
    "    style = {'description_width': '100px'}\n",
    "    for feature in feature_names:\n",
    "        if feature in continuous_features:\n",
    "            feature_range = d.get_features_range()[feature]\n",
    "            adjuster = widgets.IntSlider(value=int(float(instance[feature])), min=feature_range[0], max=feature_range[1], step=1, description=feature, disabled=False, \n",
    "                                         continuous_update=False, orientation='horizontal', readout=True, readout_format='d', style=style, layout=Layout(width='425px'))\n",
    "        else:\n",
    "            subcategories = categorical_names_indexed_by_name[feature]\n",
    "            adjuster = widgets.Dropdown(options=subcategories, value=str(instance[feature][0]), description=feature, disabled=False, style=style, layout=Layout(width='400px'))\n",
    "            \n",
    "        feature_adjusters[feature] = adjuster\n",
    "    return feature_adjusters\n",
    "\n",
    "def link_adjusters_to_callback(adjusters, callback):\n",
    "    for adjuster in adjusters.values():\n",
    "        adjuster.observe(callback, names='value')\n",
    "\n",
    "def get_adjusters_values(adjusters):\n",
    "    return {item[0]:item[1].value for item in adjusters.items()}\n",
    "\n",
    "def get_dataframe_from_adjusters(adjusters):\n",
    "    values = list(get_adjusters_values(adjusters).values())\n",
    "    return pd.DataFrame([values],columns=feature_names)\n",
    "\n",
    "def set_adjuster_values(adjusters, values):\n",
    "    for feature in feature_names:\n",
    "        if feature in continuous_features:\n",
    "            adjusters[feature].value = int(float(values[feature]))\n",
    "        else:\n",
    "            adjusters[feature].value = str(values[feature][0])"
   ]
  },
  {
   "cell_type": "code",
   "execution_count": 21,
   "metadata": {
    "scrolled": true
   },
   "outputs": [],
   "source": [
    "def initialize_toggles(instance):\n",
    "    feature_toggles = {}\n",
    "    style = {'description_width': '100px'}\n",
    "    for feature in feature_names: #info, warning, success, danger\n",
    "        toggle = widgets.ToggleButton(value=False, description='flexible', disabled=False, button_style='info',\n",
    "                                    tooltip='Click to lock this feature', icon='unlock') # (FontAwesome names without the `fa-` prefix)\n",
    "        toggle.observe(on_toggle_click, 'value')\n",
    "        feature_toggles[feature] = toggle\n",
    "    return feature_toggles\n",
    "\n",
    "def get_toggle_button_name(toggle):\n",
    "    for feature in toggles:\n",
    "        if toggles[feature] == toggle:\n",
    "            return feature\n",
    "\n",
    "def on_toggle_click(d):\n",
    "    t = d['owner']\n",
    "    if t.value == True:\n",
    "        t.description = \"fixed\"\n",
    "        t.icon = \"lock\"\n",
    "        t.tooltip = \"Click to make flexible\"\n",
    "        t.button_style = \"danger\"\n",
    "    else:\n",
    "        t.description = \"flexible\"\n",
    "        t.icon = \"unlock\"\n",
    "        t.tooltip = \"Click to make fixed\"\n",
    "        t.button_style = \"info\"\n",
    "    feature_name = get_toggle_button_name(t)\n",
    "    if feature_name in continuous_features:\n",
    "        hide_slider(feature_name, t.value)\n",
    "        \n",
    "def initialize_sliders(instance):\n",
    "    feature_sliders = {}\n",
    "    for feature in continuous_features:\n",
    "        slider_range = d.get_features_range()[feature]\n",
    "        slider = widgets.IntRangeSlider(value=slider_range, min=slider_range[0], max=slider_range[1], step=1, description=feature, disabled=False, continuous_update=False, \n",
    "                                orientation='horizontal', readout=True, readout_format='d', style = {'description_width': '95px'},layout=Layout(width='330px'))\n",
    "        feature_sliders[feature] = slider\n",
    "    return feature_sliders\n",
    "\n",
    "def hide_slider(feature_name, hide):\n",
    "    slider = sliders[feature_name]\n",
    "    if hide:\n",
    "        slider.layout.visibility = 'hidden'\n",
    "    else:\n",
    "        slider.layout.visibility = 'visible'\n",
    "    \n",
    "def get_toggle_label_box(toggles):\n",
    "    vertical_list = []\n",
    "    for feature in feature_names:\n",
    "        label_layout = Layout(width='100px')\n",
    "        label = widgets.Label(value=feature, layout=label_layout)\n",
    "        hbox = widgets.HBox([label,toggles[feature]])\n",
    "        vertical_list.append(hbox)\n",
    "    return widgets.VBox(vertical_list)\n",
    "\n",
    "def get_features_to_vary():\n",
    "    result = []\n",
    "    for feature in feature_names:\n",
    "        if toggles[feature].value == False:\n",
    "            result.append(feature)\n",
    "    return result\n",
    "            \n",
    "def get_feature_ranges():\n",
    "    new_ranges = {}\n",
    "    for feature in continuous_features:\n",
    "        new_ranges[feature] = sliders[feature].value\n",
    "    return new_ranges"
   ]
  },
  {
   "cell_type": "code",
   "execution_count": 22,
   "metadata": {
    "scrolled": true
   },
   "outputs": [],
   "source": [
    "intro_done()\n",
    "test = pd_to_dataframe(category_number_to_name(X_test_lime[2,:]))"
   ]
  },
  {
   "cell_type": "code",
   "execution_count": 25,
   "metadata": {
    "scrolled": false
   },
   "outputs": [
    {
     "data": {
      "application/vnd.jupyter.widget-view+json": {
       "model_id": "2cb19400ccfc4e69b88093d17e6dd148",
       "version_major": 2,
       "version_minor": 0
      },
      "text/plain": [
       "HBox(children=(Output(layout=Layout(border='1px solid black')), Output(layout=Layout(border='1px solid black')…"
      ]
     },
     "metadata": {},
     "output_type": "display_data"
    },
    {
     "data": {
      "application/vnd.jupyter.widget-view+json": {
       "model_id": "67475b83824248fb97f84d72ec555181",
       "version_major": 2,
       "version_minor": 0
      },
      "text/plain": [
       "Output()"
      ]
     },
     "metadata": {},
     "output_type": "display_data"
    },
    {
     "data": {
      "application/vnd.jupyter.widget-view+json": {
       "model_id": "e592e0a30c8c4cc78c866069fb987b82",
       "version_major": 2,
       "version_minor": 0
      },
      "text/plain": [
       "Output()"
      ]
     },
     "metadata": {},
     "output_type": "display_data"
    },
    {
     "data": {
      "application/vnd.jupyter.widget-view+json": {
       "model_id": "186a265020764f2296403d6e83bdbbfb",
       "version_major": 2,
       "version_minor": 0
      },
      "text/plain": [
       "Output()"
      ]
     },
     "metadata": {},
     "output_type": "display_data"
    },
    {
     "data": {
      "application/vnd.jupyter.widget-view+json": {
       "model_id": "d2161c06d64f478aa3e5d906abd96eb2",
       "version_major": 2,
       "version_minor": 0
      },
      "text/plain": [
       "Output()"
      ]
     },
     "metadata": {},
     "output_type": "display_data"
    }
   ],
   "source": [
    "############ Main script ###################\n",
    "class App_state:\n",
    "    def __init__(self):\n",
    "        self.lime_expl = None\n",
    "        self.shap_expl = None\n",
    "        self.instance_dataframe = None\n",
    "        self.instance_lime = None\n",
    "        \n",
    "app_state = App_state()\n",
    "\n",
    "# Create widget objects (adjusters and output panes)\n",
    "adjusters = initialize_adjusters(test)\n",
    "output_information = widgets.Output(layout={'border': '1px solid black'})\n",
    "output_settings = widgets.Output(layout={'border': '1px solid black'})\n",
    "output_prediction = widgets.Output()\n",
    "output_probability = widgets.Output()\n",
    "output_explanation = widgets.Output()\n",
    "output_counterfactuals = widgets.Output()\n",
    "output_constraints = widgets.Output(layout={'border': '1px solid black'})\n",
    "output_dice = widgets.Output(layout={'border': '1px solid black'})\n",
    "output_bin = widgets.Output()\n",
    "\n",
    "# Reset (because of changes in personal features)\n",
    "def adjuster_changed(change):\n",
    "    output_explanation.layout = {}\n",
    "    with output_counterfactuals:\n",
    "        clear_output(wait=False)\n",
    "    with output_explanation:\n",
    "        clear_output(wait=False)\n",
    "    with output_probability:\n",
    "        clear_output(wait=False)\n",
    "    with output_prediction:\n",
    "        clear_output(wait=False)\n",
    "    button_predict.layout.display = \"block\"\n",
    "    \n",
    "link_adjusters_to_callback(adjusters, adjuster_changed)\n",
    "\n",
    "# Reset button\n",
    "def reset_adjusters(b):\n",
    "    set_adjuster_values(adjusters,test)\n",
    "    adjuster_changed(None) #dummy value passed\n",
    "    with output_prediction:\n",
    "        print(\"Reset to default\")\n",
    "\n",
    "button_reset = widgets.Button(description=\"Reset\", button_style = 'warning')\n",
    "button_reset.on_click(reset_adjusters)\n",
    "\n",
    "# Predict button\n",
    "def on_button_predict_clicked(b):\n",
    "    button_predict.layout.display = \"none\"\n",
    "    app_state.instance_dataframe = get_dataframe_from_adjusters(adjusters)\n",
    "    app_state.instance_lime = category_name_to_number(app_state.instance_dataframe.to_numpy()[0]).astype('float')\n",
    "    button_counterfactuals.layout.visibility = 'visible'\n",
    "         \n",
    "    with output_prediction:\n",
    "        clear_output(wait=True)\n",
    "        pred_prob = get_prediction_prob(app_state.instance_lime)\n",
    "        if pred_prob > 0.5:\n",
    "            display(Markdown(\"#### <br>__Prediction: you earn MORE than 50k/year__<br>\"))\n",
    "            print(\"This tool currently only provides explanations when the AI predicts LESS than 50k/year. (Besides, with this result, no explanation needed right ?)\")\n",
    "            print(\"To generate explanations, try out some different combinations above, or use the default exmaple by clicking the RESET button.\")\n",
    "        else:\n",
    "            display(Markdown(\"#### <br>__Prediction: you earn LESS than 50k/year__<br>\"))\n",
    "            with output_probability:\n",
    "                clear_output(wait=True)\n",
    "                button_confidence.layout.display = \"block\"\n",
    "                display(button_confidence)\n",
    "                print()\n",
    "            with output_explanation:\n",
    "                clear_output(wait=True)\n",
    "                button_explain.layout.display = \"block\"\n",
    "                display(button_explain)\n",
    "                print()\n",
    "            with output_counterfactuals:\n",
    "                clear_output(wait=True)\n",
    "                button_counterfactuals.layout.display = \"block\"\n",
    "                display(button_counterfactuals)\n",
    "\n",
    "button_predict = widgets.Button(description=\"Predict outcome\", button_style = 'primary')\n",
    "button_predict.on_click(on_button_predict_clicked)\n",
    "\n",
    "# Confidence button\n",
    "def on_button_confidence_clicked(b):\n",
    "    button_confidence.layout.display = \"none\"\n",
    "    with output_probability:\n",
    "        pred_prob = get_prediction_prob(app_state.instance_lime)\n",
    "        if pred_prob > 0.5:\n",
    "            print(\"The AI is \"+str(round(pred_prob*100,0))+\"% sure.\")\n",
    "        else:\n",
    "            print(\"The AI is \"+str(round((1-pred_prob)*100,0))+\"% sure.\")\n",
    "        print() #newline\n",
    "\n",
    "button_confidence = widgets.Button(description=\"How confident is the AI ?\", button_style = 'primary', layout=Layout(width='auto'))   \n",
    "button_confidence.on_click(on_button_confidence_clicked)\n",
    "\n",
    "# Explain button\n",
    "def on_button_explain_clicked(b):\n",
    "    button_explain.layout.display = \"none\"\n",
    "    output_explanation.layout = {'border': '1px solid black'}\n",
    "    disable_all_widgets(True)\n",
    "    with output_explanation:\n",
    "            clear_output(wait=True)\n",
    "    with output_bin:\n",
    "        app_state.lime_expl = explainer_lime.explain_instance(app_state.instance_lime, predict_fn_lime_superquick, num_features=10)\n",
    "        app_state.shap_expl = explainer_shap.shap_values(app_state.instance_lime, nsamples=1000)\n",
    "    with output_explanation:\n",
    "        display(Markdown(\"#### __Explanation__\"))\n",
    "        print_explanation_step_1(app_state.lime_expl)\n",
    "        remaining_negatives = get_remaining_negative_features(app_state.lime_expl)\n",
    "        if len(remaining_negatives) > 0:\n",
    "            button_show_more.description =\"Show \"+str(len(remaining_negatives))+\" more\"\n",
    "            button_show_more.layout.display = \"block\"\n",
    "            display(button_show_more)\n",
    "        else:\n",
    "            button_lime.layout.display = \"block\"\n",
    "            display(button_lime)\n",
    "    disable_all_widgets(False)\n",
    "        \n",
    "button_explain = widgets.Button(description=\"Explain why the AI predicts LESS than 50K/year.\", button_style = 'primary', layout=Layout( width='auto'))\n",
    "button_explain.on_click(on_button_explain_clicked)\n",
    "\n",
    "# Show more button\n",
    "def on_button_show_more_clicked(b):\n",
    "    button_show_more.layout.display = \"none\"\n",
    "    with output_explanation:\n",
    "        print_explanation_step_2(app_state.lime_expl)\n",
    "        button_lime.layout.display = \"block\"\n",
    "        display(button_lime)\n",
    "        \n",
    "button_show_more = widgets.Button(description=\"Show more..\", button_style = 'primary', layout=Layout(width='auto'))   \n",
    "button_show_more.on_click(on_button_show_more_clicked)\n",
    "\n",
    "# Show all (LIME)\n",
    "def on_button_lime_clicked(b):\n",
    "    button_lime.layout.display = \"none\"\n",
    "    with output_explanation:\n",
    "        print(\"The graph below illustrates the expected behaviour of the model for people similar to you.\")\n",
    "        print(\"Blue bars indicate properties expected to lower the probability of earning more than 50K/year. Orange bars indicate the opposite.\")\n",
    "        print(\"The size of the bars determine the approximate impact of a property.\")\n",
    "        print()\n",
    "        app_state.lime_expl.show_in_notebook(show_all=False, predict_proba=False)\n",
    "        print(\"Note that this information is based on a local linear approximation of the AI.\")\n",
    "        print(\"The weights corresponding to the bars illustrate the behaviour of the linear approximation, but are in no way exact.\")\n",
    "        print()\n",
    "        button_shap.layout.display = \"block\"\n",
    "        display(button_shap)\n",
    "        \n",
    "button_lime = widgets.Button(description=\"Help me understand the rationale of the model.\", button_style = 'primary', layout=Layout(width='auto'))   \n",
    "button_lime.on_click(on_button_lime_clicked)\n",
    "\n",
    "# Show impact (SHAP)\n",
    "def on_button_shap_clicked(b):\n",
    "    button_shap.layout.display = \"none\"\n",
    "    with output_explanation:\n",
    "        print(\"The plot below illustrates the impact of every property on this specific decision.\")\n",
    "        print()\n",
    "        display(shap.force_plot(explainer_shap.expected_value, app_state.shap_expl, category_number_to_name(app_state.instance_lime), feature_names = feature_names))\n",
    "        print(\"How to interpret these results:\")\n",
    "        display(Markdown(\"* The model output value corresponds to the probability of you earning MORE than 50k, predicted by the AI.\"))\n",
    "        display(Markdown(\"* The base value indicates the AI's prediction for an average person (based on the samples it was trained on)\"))\n",
    "        display(Markdown(\"* Red bars illustrate which properties lead to a higher probability, compared to the base value. Blue bars indicate the opposite.\"))\n",
    "        display(Markdown(\"* The total resultant force of the blue and red bars combined, correspond exactly to the difference between your prediction and the average prediction.\"))\n",
    "        print(\"Note that, again, these results are based upon approximation\")\n",
    "        print(\"Moreover, the size of the bars DO NOT tell you how much the probability will change when a property would have been different.\")\n",
    "        \n",
    "button_shap = widgets.Button(description=\"Help me better understand the impact of every property, regarding this specific decision.\", button_style = 'primary', layout=Layout(width='auto'))   \n",
    "button_shap.on_click(on_button_shap_clicked)\n",
    "\n",
    "# Counterfactual button\n",
    "def on_button_counterfactuals_clicked(b):\n",
    "    button_counterfactuals.layout.display = \"none\"\n",
    "    with output_counterfactuals:\n",
    "        clear_output(wait=True)\n",
    "        display(widgets.HBox([output_constraints,output_dice]))\n",
    "    load_constraints()\n",
    "    load_counterfactuals_dice()\n",
    "    \n",
    "button_counterfactuals = widgets.Button(description=\"Help me find out how the prediction would have been different.\", button_style = 'primary', layout=Layout(width='auto'))\n",
    "button_counterfactuals.on_click(on_button_counterfactuals_clicked)\n",
    "\n",
    "# Search button\n",
    "def on_button_search_clicked(b):\n",
    "    load_counterfactuals_dice()\n",
    "        \n",
    "button_search = widgets.Button(description=\"Search again within constraints\", button_style = 'primary', layout=Layout(width='320px'))\n",
    "button_search.on_click(on_button_search_clicked)\n",
    "\n",
    "def load_constraints():\n",
    "    with output_constraints:\n",
    "        clear_output(wait=True)\n",
    "        display(Markdown(\"#### __Constraints__\"))\n",
    "        print(\"With the settings below, you can define which\\nproperties should be kept fixed. For numerical\\nproperties, you can define the allowed range of\\nchange.\")\n",
    "        print(\"--------------------------------------\")\n",
    "        display(final_box)\n",
    "\n",
    "def load_counterfactuals_dice():\n",
    "    disable_all_widgets(True)\n",
    "    with output_dice:\n",
    "        clear_output()\n",
    "        display(Markdown(\"#### __Counterfactuals__\"))\n",
    "        print(\"This part of the tool displays four alternative situations (called counterfactuals), under\\nwhich the model would have predicted earning MORE than 50k/year.\")\n",
    "        print(\"Feel free to set some constraints on certain properties (perhaps you're not willing to\\nchange your gender?). After setting new constraints, press the SEARCH AGAIN button.\")\n",
    "        print(\"------------------------------------------------------------------------------\")\n",
    "        print(\"\\nLoading counterfactuals...\")\n",
    "    d.permitted_range = get_feature_ranges()\n",
    "    exp = dice_ml.Dice(d, m)\n",
    "    with output_bin:\n",
    "        dice_exp = exp.generate_counterfactuals(lime_instance_to_dict(app_state.instance_lime), total_CFs=4, desired_class=\"opposite\", features_to_vary=get_features_to_vary())\n",
    "    with output_dice:\n",
    "        clear_output(wait=True)\n",
    "        display(Markdown(\"#### __Counterfactual outcomes__\"))\n",
    "        print(\"This part of the tool displays four alternative situations (called counterfactuals), under\\nwhich the model would have predicted earning MORE than 50k/year.\")\n",
    "        print(\"Feel free to set some constraints on certain properties (perhaps you're not willing to\\nchange your gender?). After setting new constraints, press the SEARCH AGAIN button.\")\n",
    "        print(\"------------------------------------------------------------------------------\")\n",
    "        original = dice_exp.org_instance\n",
    "        counterfactuals = dice_exp.final_cfs_df_sparse\n",
    "        for index,cf in counterfactuals.iterrows():\n",
    "            output = counterfactual_table_outputs[index]\n",
    "            md_table = \"| {} |  |  |  |\\n| --- | --- | --- | --- |\".format(str(index+1))\n",
    "            for feature in feature_names:\n",
    "                if (original[feature][0] != cf[feature]):\n",
    "                    md_table += \"\\n| __{}__ | {} | --> | {} |\".format(feature,original[feature][0],cf[feature])\n",
    "            with output:\n",
    "                clear_output(wait=True)\n",
    "                display(Markdown(md_table))\n",
    "        display(table_grid)\n",
    "    disable_all_widgets(False)\n",
    "        \n",
    "def disable_all_widgets(disable):\n",
    "    button_reset.disabled = disable\n",
    "    button_predict.disabled = disable\n",
    "    button_confidence.disabled = disable\n",
    "    button_explain.disabled = disable\n",
    "    button_show_more.disabled = disable\n",
    "    button_lime.disabled = disable\n",
    "    button_shap.disabled = disable\n",
    "    button_counterfactuals.disabled = disable\n",
    "    button_search.disabled = disable\n",
    "    for adjuster in adjusters.values():\n",
    "        adjuster.disabled = disable\n",
    "    for toggle in toggles.values():\n",
    "        toggle.disabled = disable\n",
    "    for slider in sliders.values():\n",
    "        slider.disabled = disable\n",
    "\n",
    "toggles = initialize_toggles(test)\n",
    "sliders = initialize_sliders(test)\n",
    "toggle_box = get_toggle_label_box(toggles)\n",
    "final_list = [toggle_box]\n",
    "final_list.extend(list(sliders.values()))\n",
    "final_list.append(button_search)\n",
    "final_box = widgets.VBox(final_list)\n",
    "\n",
    "counterfactual_table_outputs = [widgets.Output() for i in range(4)]\n",
    "table_grid = widgets.GridBox(counterfactual_table_outputs, layout=widgets.Layout(grid_template_columns=\"repeat(2, 350px)\"))\n",
    "\n",
    "adjusters_list = list(adjusters.values())\n",
    "adjusters_list.append(widgets.HBox([button_reset,button_predict]))\n",
    "\n",
    "with output_information:\n",
    "    display(Markdown(\"#### __Instructions__\"))\n",
    "    print(\"---------------------------------------------------------\")\n",
    "    display(Markdown(\"A black-box AI, predicts whether or not you make $50.000 per <br />year, based on some personal information. Since black-boxes are <br />uninterpretable, this tool helps you find out WHY.\"))\n",
    "    display(Markdown(\"Get started by initializing the settings on the right and pressing<br />the PREDICT OUTCOME button.\"))\n",
    "    display(Markdown(\"Predictions are based on the [adult](https://archive.ics.uci.edu/ml/datasets/adult) dataset.\"))\n",
    "    display(Markdown(\"The explanations are built using the [LIME](https://github.com/marcotcr/lime), [SHAP](https://github.com/slundberg/shap) and [DiCE](https://github.com/interpretml/DiCE) <br />packages. All credit goes to\\nthe original authors.\"))\n",
    "    display(Markdown(\"The source code of this tool is freely available on [GitHub](https://github.com/siebediels/thesis-demo).\"))\n",
    "with output_settings:\n",
    "    display(Markdown(\"#### __Personal information__\"))\n",
    "    print(\"---------------------------------------------------------\")\n",
    "    display(widgets.VBox(adjusters_list))\n",
    "\n",
    "display(widgets.HBox([output_information, output_settings]))\n",
    "display(output_prediction)\n",
    "display(output_probability)\n",
    "display(output_explanation)\n",
    "display(output_counterfactuals)"
   ]
  },
  {
   "cell_type": "code",
   "execution_count": null,
   "metadata": {
    "scrolled": true
   },
   "outputs": [],
   "source": []
  }
 ],
 "metadata": {
  "kernelspec": {
   "display_name": "Thesis_kernel",
   "language": "python",
   "name": "thesis_kernel"
  },
  "language_info": {
   "codemirror_mode": {
    "name": "ipython",
    "version": 3
   },
   "file_extension": ".py",
   "mimetype": "text/x-python",
   "name": "python",
   "nbconvert_exporter": "python",
   "pygments_lexer": "ipython3",
   "version": "3.7.7"
  },
  "toc": {
   "base_numbering": 1,
   "nav_menu": {},
   "number_sections": true,
   "sideBar": true,
   "skip_h1_title": false,
   "title_cell": "Table of Contents",
   "title_sidebar": "Contents",
   "toc_cell": false,
   "toc_position": {},
   "toc_section_display": true,
   "toc_window_display": true
  },
  "varInspector": {
   "cols": {
    "lenName": 16,
    "lenType": 16,
    "lenVar": 40
   },
   "kernels_config": {
    "python": {
     "delete_cmd_postfix": "",
     "delete_cmd_prefix": "del ",
     "library": "var_list.py",
     "varRefreshCmd": "print(var_dic_list())"
    },
    "r": {
     "delete_cmd_postfix": ") ",
     "delete_cmd_prefix": "rm(",
     "library": "var_list.r",
     "varRefreshCmd": "cat(var_dic_list()) "
    }
   },
   "types_to_exclude": [
    "module",
    "function",
    "builtin_function_or_method",
    "instance",
    "_Feature"
   ],
   "window_display": false
  }
 },
 "nbformat": 4,
 "nbformat_minor": 4
}
